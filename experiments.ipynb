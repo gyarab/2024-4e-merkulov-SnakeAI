{
 "cells": [
  {
   "cell_type": "code",
   "execution_count": 2,
   "metadata": {},
   "outputs": [],
   "source": [
    "%load_ext autoreload\n",
    "%autoreload 2"
   ]
  },
  {
   "cell_type": "code",
   "execution_count": 34,
   "metadata": {},
   "outputs": [],
   "source": [
    "import game_logic\n",
    "import algos"
   ]
  },
  {
   "cell_type": "code",
   "execution_count": 1,
   "metadata": {},
   "outputs": [],
   "source": [
    "with open(\"snake_map.txt\") as f:\n",
    "    snake_map_str = f.read()"
   ]
  },
  {
   "cell_type": "code",
   "execution_count": 5,
   "metadata": {},
   "outputs": [
    {
     "name": "stdout",
     "output_type": "stream",
     "text": [
      "......\n",
      ".o....\n",
      "xo....\n",
      ".o.0..\n",
      ".o.o..\n",
      ".ooo..\n"
     ]
    }
   ],
   "source": [
    "print(snake_map_str)"
   ]
  },
  {
   "cell_type": "code",
   "execution_count": 21,
   "metadata": {},
   "outputs": [],
   "source": [
    "game_state, n_rows, n_cols, apple_position = game_logic.load_logic(snake_map_str)"
   ]
  },
  {
   "cell_type": "code",
   "execution_count": 35,
   "metadata": {},
   "outputs": [],
   "source": [
    "is_found, final_game_state = algos.dfs(game_state, apple_position, n_rows, n_cols)"
   ]
  },
  {
   "cell_type": "code",
   "execution_count": 36,
   "metadata": {},
   "outputs": [
    {
     "name": "stdout",
     "output_type": "stream",
     "text": [
      "......\n",
      ".o....\n",
      "xo....\n",
      ".o.0..\n",
      ".o.o..\n",
      ".ooo..\n",
      "\n",
      "----------\n",
      "\n",
      "......\n",
      "......\n",
      "xo....\n",
      ".o.o0.\n",
      ".o.o..\n",
      ".ooo..\n",
      "\n",
      "----------\n",
      "\n",
      "......\n",
      "......\n",
      "x.....\n",
      ".o.oo0\n",
      ".o.o..\n",
      ".ooo..\n",
      "\n",
      "----------\n",
      "\n",
      "......\n",
      "......\n",
      "x....0\n",
      "...ooo\n",
      ".o.o..\n",
      ".ooo..\n",
      "\n",
      "----------\n",
      "\n",
      "......\n",
      "......\n",
      "x...0o\n",
      "...ooo\n",
      "...o..\n",
      ".ooo..\n",
      "\n",
      "----------\n",
      "\n",
      "......\n",
      "......\n",
      "x..0oo\n",
      "...ooo\n",
      "...o..\n",
      "..oo..\n",
      "\n",
      "----------\n",
      "\n",
      "......\n",
      "......\n",
      "x.0ooo\n",
      "...ooo\n",
      "...o..\n",
      "...o..\n",
      "\n",
      "----------\n",
      "\n",
      "......\n",
      "......\n",
      "x0oooo\n",
      "...ooo\n",
      "...o..\n",
      "......\n",
      "\n",
      "----------\n",
      "\n",
      "......\n",
      "......\n",
      "xooooo\n",
      "...ooo\n",
      "......\n",
      "......\n",
      "\n",
      "----------\n",
      "\n"
     ]
    }
   ],
   "source": [
    "game_logic.print_path(final_game_state, apple_position, n_rows, n_cols)"
   ]
  },
  {
   "cell_type": "code",
   "execution_count": 43,
   "metadata": {},
   "outputs": [
    {
     "data": {
      "text/plain": [
       "True"
      ]
     },
     "execution_count": 43,
     "metadata": {},
     "output_type": "execute_result"
    }
   ],
   "source": [
    "is_found, final_game_state = algos.iterative_deepening_dfs(game_state, apple_position, n_rows, n_cols)\n",
    "is_found"
   ]
  },
  {
   "cell_type": "code",
   "execution_count": 44,
   "metadata": {},
   "outputs": [
    {
     "name": "stdout",
     "output_type": "stream",
     "text": [
      "......\n",
      ".o....\n",
      "xo....\n",
      ".o.0..\n",
      ".o.o..\n",
      ".ooo..\n",
      "\n",
      "----------\n",
      "\n",
      "......\n",
      "......\n",
      "xo....\n",
      ".o0o..\n",
      ".o.o..\n",
      ".ooo..\n",
      "\n",
      "----------\n",
      "\n",
      "......\n",
      "......\n",
      "x.0...\n",
      ".ooo..\n",
      ".o.o..\n",
      ".ooo..\n",
      "\n",
      "----------\n",
      "\n",
      "......\n",
      "......\n",
      "x0o...\n",
      "..oo..\n",
      ".o.o..\n",
      ".ooo..\n",
      "\n",
      "----------\n",
      "\n",
      "......\n",
      "......\n",
      "xoo...\n",
      "..oo..\n",
      "...o..\n",
      ".ooo..\n",
      "\n",
      "----------\n",
      "\n"
     ]
    }
   ],
   "source": [
    "game_logic.print_path(final_game_state, apple_position, n_rows, n_cols)"
   ]
  }
 ],
 "metadata": {
  "kernelspec": {
   "display_name": "aoc",
   "language": "python",
   "name": "python3"
  },
  "language_info": {
   "codemirror_mode": {
    "name": "ipython",
    "version": 3
   },
   "file_extension": ".py",
   "mimetype": "text/x-python",
   "name": "python",
   "nbconvert_exporter": "python",
   "pygments_lexer": "ipython3",
   "version": "3.12.8"
  }
 },
 "nbformat": 4,
 "nbformat_minor": 2
}
